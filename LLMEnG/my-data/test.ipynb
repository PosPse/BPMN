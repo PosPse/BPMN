{
 "cells": [
  {
   "cell_type": "code",
   "execution_count": 2,
   "metadata": {},
   "outputs": [],
   "source": [
    "import json\n",
    "datasets =None\n",
    "with open ('datasets.json', 'r') as f:\n",
    "    datasets = json.load(f)"
   ]
  },
  {
   "cell_type": "code",
   "execution_count": 13,
   "metadata": {},
   "outputs": [
    {
     "name": "stdout",
     "output_type": "stream",
     "text": [
      "0: The credit company receives the credit information from the customer\n",
      "1: If\n",
      "2: the requested amount is greater than 1M $\n",
      "3: an approval must be requested\n",
      "4: If\n",
      "5: the requested amount is lower or equal to 1M $\n",
      "6: the company assess the risk of the credit\n",
      "7: After\n",
      "8: the assessment\n",
      "9: if\n",
      "10: the risk is high\n",
      "11: an approval must be requested\n",
      "12: but\n",
      "13: if\n",
      "14: the risk is low\n",
      "15: the credit is accepted\n",
      "16: After\n",
      "17: the approval request\n",
      "18: the credit could be accepted or rejected\n",
      "19: in\n",
      "20: both\n",
      "21: cases\n",
      "22: an email is sent to the customer\n"
     ]
    }
   ],
   "source": [
    "data = datasets[0]\n",
    "text = data['text']\n",
    "token = data['token']\n",
    "bio_label = data['bio_label']\n",
    "result = []\n",
    "temp_activity = []\n",
    "temp_condition = []\n",
    "temp_signal = []\n",
    "for t, b in zip(token, bio_label):\n",
    "    if 'activity' in b:\n",
    "        temp_activity.append(t)\n",
    "    else:\n",
    "        if len(temp_activity) > 0:\n",
    "            result.append(' '.join(temp_activity))\n",
    "            temp_activity = []\n",
    "    if 'condition' in b:\n",
    "        temp_condition.append(t)\n",
    "    else:\n",
    "        if len(temp_condition) > 0:\n",
    "            result.append(' '.join(temp_condition))\n",
    "            temp_condition = []\n",
    "    if 'signal' in b:\n",
    "        temp_signal.append(t)\n",
    "        if len(temp_signal) > 0:\n",
    "            result.append(' '.join(temp_signal))\n",
    "            temp_signal = []\n",
    "           \n",
    "for i, r in enumerate(result):\n",
    "    print(f'{i}: {r}')\n",
    "   "
   ]
  }
 ],
 "metadata": {
  "kernelspec": {
   "display_name": "btr",
   "language": "python",
   "name": "python3"
  },
  "language_info": {
   "codemirror_mode": {
    "name": "ipython",
    "version": 3
   },
   "file_extension": ".py",
   "mimetype": "text/x-python",
   "name": "python",
   "nbconvert_exporter": "python",
   "pygments_lexer": "ipython3",
   "version": "3.1.-1"
  }
 },
 "nbformat": 4,
 "nbformat_minor": 2
}
