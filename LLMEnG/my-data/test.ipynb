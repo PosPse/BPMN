{
 "cells": [
  {
   "cell_type": "code",
   "execution_count": 7,
   "metadata": {},
   "outputs": [
    {
     "name": "stdout",
     "output_type": "stream",
     "text": [
      "60_data.txt\n",
      "10000\n"
     ]
    }
   ],
   "source": [
    "import json\n",
    "datasets =None\n",
    "with open ('datasets5.json', 'r') as f:\n",
    "    datasets = json.load(f)\n",
    "min_len = 10000\n",
    "for dataset in datasets:\n",
    "    node_token_list = dataset['node_token_list']\n",
    "    if len(node_token_list) == 4:\n",
    "        print(dataset['filename'])\n",
    "print(min_len) "
   ]
  }
 ],
 "metadata": {
  "kernelspec": {
   "display_name": "btr",
   "language": "python",
   "name": "python3"
  },
  "language_info": {
   "codemirror_mode": {
    "name": "ipython",
    "version": 3
   },
   "file_extension": ".py",
   "mimetype": "text/x-python",
   "name": "python",
   "nbconvert_exporter": "python",
   "pygments_lexer": "ipython3",
   "version": "3.10.14"
  }
 },
 "nbformat": 4,
 "nbformat_minor": 2
}
