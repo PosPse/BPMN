{
 "cells": [
  {
   "cell_type": "code",
   "execution_count": 2,
   "metadata": {},
   "outputs": [],
   "source": [
    "from torch_geometric.datasets import Planetoid\n",
    "import torch\n",
    "from torch_geometric.data import Data\n",
    "from torch_geometric.data import DataLoader"
   ]
  },
  {
   "cell_type": "code",
   "execution_count": 30,
   "metadata": {},
   "outputs": [],
   "source": [
    "x = torch.tensor([[-1, 0, 1], [0, 1, 2]], dtype=torch.float)\n",
    "y = torch.tensor([0, 1], dtype=torch.long)\n",
    " \n",
    "edge_index = torch.tensor([[0, 1],\n",
    "                           [1, 0]], dtype=torch.long)\n",
    "dataset_list = []\n",
    "for i in range(1):\n",
    "    data = Data(x=x, edge_index=edge_index, y=y)\n",
    "    dataset_list.append(data)"
   ]
  },
  {
   "cell_type": "code",
   "execution_count": 31,
   "metadata": {},
   "outputs": [],
   "source": [
    "class CustomDataset(torch.utils.data.Dataset):\n",
    "    def __init__(self, data):\n",
    "        self.data = data\n",
    "\n",
    "    def __len__(self):\n",
    "        return len(self.data)\n",
    "\n",
    "    def __getitem__(self, idx):\n",
    "        return self.data[idx]"
   ]
  },
  {
   "cell_type": "code",
   "execution_count": 32,
   "metadata": {},
   "outputs": [
    {
     "data": {
      "text/plain": [
       "Data(x=[2, 3], edge_index=[2, 2], y=[2])"
      ]
     },
     "execution_count": 32,
     "metadata": {},
     "output_type": "execute_result"
    }
   ],
   "source": [
    "custom_dataset = CustomDataset(dataset_list)\n",
    "custom_dataset[0]"
   ]
  },
  {
   "cell_type": "code",
   "execution_count": 33,
   "metadata": {},
   "outputs": [
    {
     "name": "stderr",
     "output_type": "stream",
     "text": [
      "/home/btr/miniconda3/envs/llmsage/lib/python3.10/site-packages/torch_geometric/deprecation.py:26: UserWarning: 'data.DataLoader' is deprecated, use 'loader.DataLoader' instead\n",
      "  warnings.warn(out)\n"
     ]
    }
   ],
   "source": [
    "dataloader = DataLoader(custom_dataset, batch_size=1, shuffle=True)"
   ]
  },
  {
   "cell_type": "code",
   "execution_count": 34,
   "metadata": {},
   "outputs": [
    {
     "name": "stdout",
     "output_type": "stream",
     "text": [
      "tensor([[-1.,  0.,  1.],\n",
      "        [ 0.,  1.,  2.]])\n",
      "tensor([0, 1])\n"
     ]
    }
   ],
   "source": [
    "for batch in dataloader:\n",
    "    print(batch.x)\n",
    "    print(batch.y)"
   ]
  },
  {
   "cell_type": "code",
   "execution_count": 37,
   "metadata": {},
   "outputs": [],
   "source": [
    "import torch\n",
    "import torch.nn as nn\n",
    "import torch.nn.functional as F\n",
    "from torch_geometric.nn import GCNConv\n",
    "from torch_geometric.nn import SAGEConv\n",
    "\n",
    "class Net(nn.Module):\n",
    "    def __init__(self):\n",
    "        super(Net, self).__init__()\n",
    "        self.conv1 = SAGEConv(3, 3, aggr='mean')\n",
    "        self.conv2 = SAGEConv(3, 2, aggr='mean')\n",
    "\n",
    "    def forward(self, data):\n",
    "        x, edge_index = data.x, data.edge_index\n",
    "        x = self.conv1(x, edge_index)\n",
    "        print(x)\n",
    "        # x = F.relu(x)\n",
    "        # x = F.dropout(x, training=self.training)\n",
    "        x = self.conv2(x, edge_index)\n",
    "\n",
    "        return x"
   ]
  },
  {
   "cell_type": "code",
   "execution_count": 41,
   "metadata": {},
   "outputs": [
    {
     "name": "stdout",
     "output_type": "stream",
     "text": [
      "tensor([[ 0.7795,  0.2021,  1.2306],\n",
      "        [-0.3015,  1.3017, -0.3251]], grad_fn=<AddBackward0>)\n",
      "tensor([[ 0.7867,  0.2033,  1.2294],\n",
      "        [-0.3085,  1.3005, -0.3240]], grad_fn=<AddBackward0>)\n",
      "tensor([[ 0.7939,  0.2043,  1.2283],\n",
      "        [-0.3155,  1.2994, -0.3230]], grad_fn=<AddBackward0>)\n",
      "tensor([[ 0.8010,  0.2053,  1.2273],\n",
      "        [-0.3224,  1.2983, -0.3220]], grad_fn=<AddBackward0>)\n",
      "tensor([[ 0.8080,  0.2062,  1.2264],\n",
      "        [-0.3292,  1.2974, -0.3212]], grad_fn=<AddBackward0>)\n",
      "tensor([[ 0.8150,  0.2071,  1.2256],\n",
      "        [-0.3360,  1.2964, -0.3204]], grad_fn=<AddBackward0>)\n",
      "tensor([[ 0.8219,  0.2079,  1.2248],\n",
      "        [-0.3427,  1.2956, -0.3197]], grad_fn=<AddBackward0>)\n",
      "tensor([[ 0.8287,  0.2087,  1.2242],\n",
      "        [-0.3493,  1.2948, -0.3191]], grad_fn=<AddBackward0>)\n",
      "tensor([[ 0.8354,  0.2093,  1.2236],\n",
      "        [-0.3559,  1.2941, -0.3186]], grad_fn=<AddBackward0>)\n",
      "tensor([[ 0.8421,  0.2100,  1.2230],\n",
      "        [-0.3624,  1.2934, -0.3181]], grad_fn=<AddBackward0>)\n"
     ]
    }
   ],
   "source": [
    "model = Net()\n",
    "optizer = torch.optim.SGD(model.parameters(), lr=0.01)\n",
    "criterion = nn.CrossEntropyLoss()\n",
    "\n",
    "model.train()\n",
    "for epoch in range(10):\n",
    "    for data in dataloader:\n",
    "        optizer.zero_grad()\n",
    "        output = model(data)\n",
    "        loss = criterion(output, data.y)\n",
    "        loss.backward()\n",
    "        optizer.step()"
   ]
  },
  {
   "cell_type": "code",
   "execution_count": 1,
   "metadata": {},
   "outputs": [
    {
     "data": {
      "text/plain": [
       "21"
      ]
     },
     "execution_count": 1,
     "metadata": {},
     "output_type": "execute_result"
    }
   ],
   "source": [
    "a = [1,2,3]\n",
    "b = [4,5,6]\n",
    "a.extend(b)"
   ]
  }
 ],
 "metadata": {
  "kernelspec": {
   "display_name": "llmsage",
   "language": "python",
   "name": "python3"
  },
  "language_info": {
   "codemirror_mode": {
    "name": "ipython",
    "version": 3
   },
   "file_extension": ".py",
   "mimetype": "text/x-python",
   "name": "python",
   "nbconvert_exporter": "python",
   "pygments_lexer": "ipython3",
   "version": "3.10.14"
  }
 },
 "nbformat": 4,
 "nbformat_minor": 2
}
