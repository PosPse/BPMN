{
 "cells": [
  {
   "cell_type": "code",
   "execution_count": 1,
   "metadata": {},
   "outputs": [],
   "source": [
    "from torch_geometric.datasets import Planetoid\n",
    "import torch\n",
    "from torch_geometric.data import Data\n",
    "from torch_geometric.data import DataLoader"
   ]
  },
  {
   "cell_type": "code",
   "execution_count": 17,
   "metadata": {},
   "outputs": [],
   "source": [
    "x = torch.tensor([[-1, 0, 1], [0, 1, 2]], dtype=torch.float)\n",
    "y = torch.tensor([0, 1,3,4,5,6,], dtype=torch.long)"
   ]
  },
  {
   "cell_type": "code",
   "execution_count": 20,
   "metadata": {},
   "outputs": [
    {
     "data": {
      "text/plain": [
       "tensor([-1.,  0.,  1.,  0.,  1.,  2.])"
      ]
     },
     "execution_count": 20,
     "metadata": {},
     "output_type": "execute_result"
    }
   ],
   "source": [
    "x.flatten()"
   ]
  },
  {
   "cell_type": "code",
   "execution_count": 5,
   "metadata": {},
   "outputs": [
    {
     "data": {
      "text/plain": [
       "2"
      ]
     },
     "execution_count": 5,
     "metadata": {},
     "output_type": "execute_result"
    }
   ],
   "source": [
    "data = Data(x=x, edge_index=edge_index, y=y)\n",
    "data.num_nodes"
   ]
  },
  {
   "cell_type": "code",
   "execution_count": 3,
   "metadata": {},
   "outputs": [],
   "source": [
    "class CustomDataset(torch.utils.data.Dataset):\n",
    "    def __init__(self, data):\n",
    "        self.data = data\n",
    "\n",
    "    def __len__(self):\n",
    "        return len(self.data)\n",
    "\n",
    "    def __getitem__(self, idx):\n",
    "        return self.data[idx]"
   ]
  },
  {
   "cell_type": "code",
   "execution_count": 4,
   "metadata": {},
   "outputs": [
    {
     "data": {
      "text/plain": [
       "Data(x=[2, 3], edge_index=[2, 2], y=[2])"
      ]
     },
     "execution_count": 4,
     "metadata": {},
     "output_type": "execute_result"
    }
   ],
   "source": [
    "custom_dataset = CustomDataset(dataset_list)\n",
    "custom_dataset[0]"
   ]
  },
  {
   "cell_type": "code",
   "execution_count": 5,
   "metadata": {},
   "outputs": [
    {
     "name": "stderr",
     "output_type": "stream",
     "text": [
      "/home/btr/miniconda3/envs/LLMEnG/lib/python3.10/site-packages/torch_geometric/deprecation.py:26: UserWarning: 'data.DataLoader' is deprecated, use 'loader.DataLoader' instead\n",
      "  warnings.warn(out)\n"
     ]
    }
   ],
   "source": [
    "dataloader = DataLoader(custom_dataset, batch_size=1, shuffle=True)"
   ]
  },
  {
   "cell_type": "code",
   "execution_count": 6,
   "metadata": {},
   "outputs": [
    {
     "name": "stdout",
     "output_type": "stream",
     "text": [
      "tensor([[-1.,  0.,  1.],\n",
      "        [ 0.,  1.,  2.]])\n",
      "tensor([0, 1])\n"
     ]
    }
   ],
   "source": [
    "for batch in dataloader:\n",
    "    print(batch.x)\n",
    "    print(batch.y)"
   ]
  },
  {
   "cell_type": "code",
   "execution_count": 12,
   "metadata": {},
   "outputs": [],
   "source": [
    "import torch\n",
    "import torch.nn as nn\n",
    "import torch.nn.functional as F\n",
    "from torch_geometric.nn import GCNConv\n",
    "from torch_geometric.nn import SAGEConv\n",
    "\n",
    "class Net(nn.Module):\n",
    "    def __init__(self):\n",
    "        super(Net, self).__init__()\n",
    "        self.conv1 = SAGEConv(3, 3, aggr='mean')\n",
    "        self.conv2 = SAGEConv(3, 2, aggr='mean')\n",
    "\n",
    "    def forward(self, data):\n",
    "        x, edge_index = data.x, data.edge_index\n",
    "        x = self.conv1(x, edge_index)\n",
    "        print(x)\n",
    "        # x = F.relu(x)\n",
    "        # x = F.dropout(x, training=self.training)\n",
    "        x = self.conv2(x, edge_index)\n",
    "\n",
    "        return x"
   ]
  },
  {
   "cell_type": "code",
   "execution_count": 14,
   "metadata": {},
   "outputs": [
    {
     "name": "stdout",
     "output_type": "stream",
     "text": [
      "tensor([[ 0.6433,  0.2546,  0.2448],\n",
      "        [ 0.4562,  1.4739, -0.6014]], grad_fn=<AddBackward0>)\n",
      "tensor([0])\n",
      "Data(x=[2, 3], edge_index=[2, 2], y=[2])\n",
      "子图 0 的节点特征：\n",
      "tensor([[-1.,  0.,  1.],\n",
      "        [ 0.,  1.,  2.]])\n",
      "\n",
      "tensor([[ 0.6372,  0.2498,  0.2353],\n",
      "        [ 0.4631,  1.4760, -0.5987]], grad_fn=<AddBackward0>)\n",
      "tensor([0])\n",
      "Data(x=[2, 3], edge_index=[2, 2], y=[2])\n",
      "子图 0 的节点特征：\n",
      "tensor([[-1.,  0.,  1.],\n",
      "        [ 0.,  1.,  2.]])\n",
      "\n",
      "tensor([[ 0.6311,  0.2450,  0.2260],\n",
      "        [ 0.4699,  1.4782, -0.5960]], grad_fn=<AddBackward0>)\n",
      "tensor([0])\n",
      "Data(x=[2, 3], edge_index=[2, 2], y=[2])\n",
      "子图 0 的节点特征：\n",
      "tensor([[-1.,  0.,  1.],\n",
      "        [ 0.,  1.,  2.]])\n",
      "\n",
      "tensor([[ 0.6251,  0.2402,  0.2169],\n",
      "        [ 0.4766,  1.4806, -0.5934]], grad_fn=<AddBackward0>)\n",
      "tensor([0])\n",
      "Data(x=[2, 3], edge_index=[2, 2], y=[2])\n",
      "子图 0 的节点特征：\n",
      "tensor([[-1.,  0.,  1.],\n",
      "        [ 0.,  1.,  2.]])\n",
      "\n",
      "tensor([[ 0.6192,  0.2353,  0.2080],\n",
      "        [ 0.4833,  1.4830, -0.5909]], grad_fn=<AddBackward0>)\n",
      "tensor([0])\n",
      "Data(x=[2, 3], edge_index=[2, 2], y=[2])\n",
      "子图 0 的节点特征：\n",
      "tensor([[-1.,  0.,  1.],\n",
      "        [ 0.,  1.,  2.]])\n",
      "\n",
      "tensor([[ 0.6133,  0.2305,  0.1993],\n",
      "        [ 0.4898,  1.4856, -0.5884]], grad_fn=<AddBackward0>)\n",
      "tensor([0])\n",
      "Data(x=[2, 3], edge_index=[2, 2], y=[2])\n",
      "子图 0 的节点特征：\n",
      "tensor([[-1.,  0.,  1.],\n",
      "        [ 0.,  1.,  2.]])\n",
      "\n",
      "tensor([[ 0.6076,  0.2256,  0.1907],\n",
      "        [ 0.4963,  1.4882, -0.5860]], grad_fn=<AddBackward0>)\n",
      "tensor([0])\n",
      "Data(x=[2, 3], edge_index=[2, 2], y=[2])\n",
      "子图 0 的节点特征：\n",
      "tensor([[-1.,  0.,  1.],\n",
      "        [ 0.,  1.,  2.]])\n",
      "\n",
      "tensor([[ 0.6019,  0.2207,  0.1824],\n",
      "        [ 0.5028,  1.4909, -0.5836]], grad_fn=<AddBackward0>)\n",
      "tensor([0])\n",
      "Data(x=[2, 3], edge_index=[2, 2], y=[2])\n",
      "子图 0 的节点特征：\n",
      "tensor([[-1.,  0.,  1.],\n",
      "        [ 0.,  1.,  2.]])\n",
      "\n",
      "tensor([[ 0.5963,  0.2158,  0.1743],\n",
      "        [ 0.5091,  1.4937, -0.5813]], grad_fn=<AddBackward0>)\n",
      "tensor([0])\n",
      "Data(x=[2, 3], edge_index=[2, 2], y=[2])\n",
      "子图 0 的节点特征：\n",
      "tensor([[-1.,  0.,  1.],\n",
      "        [ 0.,  1.,  2.]])\n",
      "\n",
      "tensor([[ 0.5907,  0.2108,  0.1663],\n",
      "        [ 0.5154,  1.4966, -0.5790]], grad_fn=<AddBackward0>)\n",
      "tensor([0])\n",
      "Data(x=[2, 3], edge_index=[2, 2], y=[2])\n",
      "子图 0 的节点特征：\n",
      "tensor([[-1.,  0.,  1.],\n",
      "        [ 0.,  1.,  2.]])\n",
      "\n"
     ]
    }
   ],
   "source": [
    "model = Net()\n",
    "optizer = torch.optim.SGD(model.parameters(), lr=0.01)\n",
    "criterion = nn.CrossEntropyLoss()\n",
    "\n",
    "model.train()\n",
    "for epoch in range(10):\n",
    "    for data in dataloader:\n",
    "        optizer.zero_grad()\n",
    "        output = model(data)\n",
    "        loss = criterion(output, data.y)\n",
    "        unique_batch_indices = torch.unique(data.batch)\n",
    "        print(unique_batch_indices)\n",
    "        # 迭代并处理每个图\n",
    "        loss.backward()\n",
    "        optizer.step()"
   ]
  },
  {
   "cell_type": "code",
   "execution_count": 1,
   "metadata": {},
   "outputs": [
    {
     "data": {
      "text/plain": [
       "21"
      ]
     },
     "execution_count": 1,
     "metadata": {},
     "output_type": "execute_result"
    }
   ],
   "source": [
    "a = [1,2,3]\n",
    "b = [4,5,6]\n",
    "a.extend(b)"
   ]
  }
 ],
 "metadata": {
  "kernelspec": {
   "display_name": "llmsage",
   "language": "python",
   "name": "python3"
  },
  "language_info": {
   "codemirror_mode": {
    "name": "ipython",
    "version": 3
   },
   "file_extension": ".py",
   "mimetype": "text/x-python",
   "name": "python",
   "nbconvert_exporter": "python",
   "pygments_lexer": "ipython3",
   "version": "3.10.14"
  }
 },
 "nbformat": 4,
 "nbformat_minor": 2
}
