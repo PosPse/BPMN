{
 "cells": [
  {
   "cell_type": "code",
   "execution_count": 3,
   "metadata": {},
   "outputs": [
    {
     "ename": "TypeError",
     "evalue": "unhashable type: 'list'",
     "output_type": "error",
     "traceback": [
      "\u001b[0;31m---------------------------------------------------------------------------\u001b[0m",
      "\u001b[0;31mTypeError\u001b[0m                                 Traceback (most recent call last)",
      "Cell \u001b[0;32mIn[3], line 6\u001b[0m\n\u001b[1;32m      4\u001b[0m a \u001b[38;5;241m=\u001b[39m [\u001b[38;5;241m1\u001b[39m, \u001b[38;5;241m2\u001b[39m]\n\u001b[1;32m      5\u001b[0m temp \u001b[38;5;241m=\u001b[39m {}\n\u001b[0;32m----> 6\u001b[0m temp[a] \u001b[38;5;241m=\u001b[39m \u001b[38;5;241m1\u001b[39m\n\u001b[1;32m      7\u001b[0m \u001b[38;5;28mprint\u001b[39m(temp)\n",
      "\u001b[0;31mTypeError\u001b[0m: unhashable type: 'list'"
     ]
    }
   ],
   "source": [
    "# 给定的二维列表\n",
    "lst = [[0, 1], [1, 0], [1, 2], [2, 1], [2, 3], [3, 2], [3, 4], [4, 3], [4, 5], [5, 4], [5, 6], [6, 5], [6, 7], [7, 6], [7, 8], [8, 7], [8, 9], [9, 8]]\n",
    "\n",
    "a = [[0,0], [0,1], [0,2],[0,3],[0,4],[0,5],[1,1],[1,2],[1,3],[1,4],[1,5],[2,2],[2,3],[2,4],[2,5],[3,3],[3,4],[3,5],[4,4],[4,5],[5,5]]"
   ]
  },
  {
   "cell_type": "code",
   "execution_count": 10,
   "metadata": {},
   "outputs": [
    {
     "name": "stdout",
     "output_type": "stream",
     "text": [
      "tensor([[0, 1, 2, 3],\n",
      "        [1, 0, 3, 2]])\n"
     ]
    }
   ],
   "source": [
    "import torch\n",
    "from torch_geometric.data import Data\n",
    "\n",
    "data = Data(x=torch.randn(4, 16),\n",
    "           edge_index=torch.tensor([[0, 1, 2, 3], [1, 0, 3, 2]]),\n",
    "           edge_attr=torch.randn(4, 3),\n",
    "           y=torch.randn(4, 3),\n",
    "           )\n",
    "data.num_node_types = 12\n",
    "print(data.edge_index)"
   ]
  },
  {
   "cell_type": "code",
   "execution_count": 115,
   "metadata": {},
   "outputs": [
    {
     "name": "stdout",
     "output_type": "stream",
     "text": [
      "  (0, 1)\t100.0\n",
      "  (1, 0)\t1.0\n",
      "  (1, 2)\t2.0\n",
      "  (2, 1)\t-1.0\n",
      "[0 1 1 2]\n",
      "[1 0 2 1]\n"
     ]
    }
   ],
   "source": [
    "import scipy.sparse as sp\n",
    "adjacency_matrix = [[0, 100.0, 0],\n",
    "                              [1, 0, 2],\n",
    "                              [0, -1, 0]]\n",
    "tmp_coo = sp.coo_matrix(adjacency_matrix)\n",
    "values = tmp_coo.data\n",
    "print(tmp_coo)\n",
    "print(tmp_coo.row)\n",
    "print(tmp_coo.col)"
   ]
  },
  {
   "cell_type": "code",
   "execution_count": 116,
   "metadata": {},
   "outputs": [
    {
     "name": "stdout",
     "output_type": "stream",
     "text": [
      "[[  0. 100.   0.]\n",
      " [  1.   0.   2.]\n",
      " [  0.  -1.   0.]]\n"
     ]
    }
   ],
   "source": [
    "b = sp.coo_matrix((values, (tmp_coo.row, tmp_coo.col)))\n",
    "print(b.todense())"
   ]
  },
  {
   "cell_type": "code",
   "execution_count": 2,
   "metadata": {},
   "outputs": [
    {
     "name": "stdout",
     "output_type": "stream",
     "text": [
      "tensor([[0, 1, 0, 1],\n",
      "        [1, 0, 1, 0],\n",
      "        [0, 1, 0, 1],\n",
      "        [1, 0, 1, 0]])\n",
      "SparseTensor(row=tensor([0, 0, 1, 1, 2, 2, 3, 3]),\n",
      "             col=tensor([1, 3, 0, 2, 1, 3, 0, 2]),\n",
      "             val=tensor([1, 1, 1, 1, 1, 1, 1, 1]),\n",
      "             size=(4, 4), nnz=8, density=50.00%)\n",
      "tensor([[0, 1, 0, 1],\n",
      "        [1, 0, 1, 0],\n",
      "        [0, 1, 0, 1],\n",
      "        [1, 0, 1, 0]])\n"
     ]
    }
   ],
   "source": [
    "import torch\n",
    "from torch_sparse import SparseTensor\n",
    "\n",
    "# 示例用法\n",
    "dense_matrix = torch.tensor([[0, 1, 0, 1],\n",
    "                              [1, 0, 1, 0],\n",
    "                              [0, 1, 0, 1],\n",
    "                              [1, 0, 1, 0]])\n",
    "\n",
    "\n",
    "print(dense_matrix)\n",
    "\n",
    "sparse_matrix = SparseTensor.from_dense(dense_matrix)\n",
    "print(sparse_matrix)\n",
    "\n",
    "dense_matrix_converted = sparse_matrix.to_dense()\n",
    "print(dense_matrix_converted)"
   ]
  }
 ],
 "metadata": {
  "kernelspec": {
   "display_name": "llmsage",
   "language": "python",
   "name": "python3"
  },
  "language_info": {
   "codemirror_mode": {
    "name": "ipython",
    "version": 3
   },
   "file_extension": ".py",
   "mimetype": "text/x-python",
   "name": "python",
   "nbconvert_exporter": "python",
   "pygments_lexer": "ipython3",
   "version": "3.10.14"
  }
 },
 "nbformat": 4,
 "nbformat_minor": 2
}
