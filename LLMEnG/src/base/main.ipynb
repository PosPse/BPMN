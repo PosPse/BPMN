{
 "cells": [
  {
   "cell_type": "code",
   "execution_count": 3,
   "metadata": {},
   "outputs": [
    {
     "ename": "TypeError",
     "evalue": "unhashable type: 'list'",
     "output_type": "error",
     "traceback": [
      "\u001b[0;31m---------------------------------------------------------------------------\u001b[0m",
      "\u001b[0;31mTypeError\u001b[0m                                 Traceback (most recent call last)",
      "Cell \u001b[0;32mIn[3], line 6\u001b[0m\n\u001b[1;32m      4\u001b[0m a \u001b[38;5;241m=\u001b[39m [\u001b[38;5;241m1\u001b[39m, \u001b[38;5;241m2\u001b[39m]\n\u001b[1;32m      5\u001b[0m temp \u001b[38;5;241m=\u001b[39m {}\n\u001b[0;32m----> 6\u001b[0m temp[a] \u001b[38;5;241m=\u001b[39m \u001b[38;5;241m1\u001b[39m\n\u001b[1;32m      7\u001b[0m \u001b[38;5;28mprint\u001b[39m(temp)\n",
      "\u001b[0;31mTypeError\u001b[0m: unhashable type: 'list'"
     ]
    }
   ],
   "source": [
    "# 给定的二维列表\n",
    "lst = [[0, 1], [1, 0], [1, 2], [2, 1], [2, 3], [3, 2], [3, 4], [4, 3], [4, 5], [5, 4], [5, 6], [6, 5], [6, 7], [7, 6], [7, 8], [8, 7], [8, 9], [9, 8]]\n",
    "\n",
    "a = [[0,0], [0,1], [0,2],[0,3],[0,4],[0,5],[1,1],[1,2],[1,3],[1,4],[1,5],[2,2],[2,3],[2,4],[2,5],[3,3],[3,4],[3,5],[4,4],[4,5],[5,5]]"
   ]
  },
  {
   "cell_type": "code",
   "execution_count": 10,
   "metadata": {},
   "outputs": [
    {
     "name": "stdout",
     "output_type": "stream",
     "text": [
      "tensor([[0, 1, 2, 3],\n",
      "        [1, 0, 3, 2]])\n"
     ]
    }
   ],
   "source": [
    "import torch\n",
    "from torch_geometric.data import Data\n",
    "\n",
    "data = Data(x=torch.randn(4, 16),\n",
    "           edge_index=torch.tensor([[0, 1, 2, 3], [1, 0, 3, 2]]),\n",
    "           edge_attr=torch.randn(4, 3),\n",
    "           y=torch.randn(4, 3),\n",
    "           )\n",
    "data.num_node_types = 12\n",
    "print(data.edge_index)"
   ]
  },
  {
   "cell_type": "code",
   "execution_count": 3,
   "metadata": {},
   "outputs": [
    {
     "name": "stdout",
     "output_type": "stream",
     "text": [
      "tensor([[0, 1, 0, 1],\n",
      "        [1, 0, 1, 0],\n",
      "        [0, 1, 0, 1],\n",
      "        [1, 0, 1, 0]])\n",
      "SparseTensor(row=tensor([0, 0, 1, 1, 2, 2, 3, 3]),\n",
      "             col=tensor([1, 3, 0, 2, 1, 3, 0, 2]),\n",
      "             val=tensor([1, 1, 1, 1, 1, 1, 1, 1]),\n",
      "             size=(4, 4), nnz=8, density=50.00%)\n",
      "16\n"
     ]
    }
   ],
   "source": [
    "import torch\n",
    "from torch_sparse import SparseTensor\n",
    "\n",
    "# 示例用法\n",
    "dense_matrix = torch.tensor([[0, 1, 0, 1],\n",
    "                              [1, 0, 1, 0],\n",
    "                              [0, 1, 0, 1],\n",
    "                              [1, 0, 1, 0]])\n",
    "\n",
    "\n",
    "print(dense_matrix)\n",
    "\n",
    "sparse_matrix = SparseTensor.from_dense(dense_matrix)\n",
    "print(sparse_matrix)\n",
    "\n",
    "dense_matrix_converted = sparse_matrix.to_dense().view(-1)\n",
    "print(len(dense_matrix_converted))"
   ]
  },
  {
   "cell_type": "code",
   "execution_count": 21,
   "metadata": {},
   "outputs": [
    {
     "name": "stdout",
     "output_type": "stream",
     "text": [
      "tensor([0, 1])\n",
      "[Data(x=[4, 16], edge_index=[2, 4], name='ddd')]\n",
      "子图 0 的节点特征：\n",
      "tensor([[-1.0941,  0.5248,  0.0369, -0.4205,  0.6104, -0.6196, -0.4649, -1.3183,\n",
      "          1.1503, -1.4818, -0.1798, -0.5130, -0.1696, -0.0919,  1.5649,  0.3439],\n",
      "        [-0.0088, -0.7808, -0.8181, -0.7134,  1.5739,  0.2584,  1.2070,  0.2292,\n",
      "         -0.5087, -0.2863, -0.5346, -0.1086,  0.0482, -1.9581,  0.1813, -1.4787],\n",
      "        [-0.7656,  0.9060, -0.8840,  0.0875, -0.7424, -1.7161,  0.1466, -1.3477,\n",
      "         -0.7912, -2.0520, -0.1750,  1.0111,  0.5479,  0.7827, -0.2881,  0.4188],\n",
      "        [-1.0036, -0.8120, -1.2302, -1.0445,  1.8612, -0.0759,  0.3690, -0.3883,\n",
      "         -0.1336,  0.3141, -0.0938, -0.4651, -0.0555,  1.0692, -1.0862,  1.0460]])\n",
      "\n",
      "[Data(x=[3, 16], edge_index=[2, 2], name='eee')]\n",
      "子图 1 的节点特征：\n",
      "tensor([[-0.7634,  1.5982, -1.6123,  1.8558,  0.9032, -0.4893, -1.3870, -0.9298,\n",
      "          1.1899,  0.6080,  0.6183, -0.6340,  0.0245, -0.6931,  0.8428, -0.9224],\n",
      "        [ 1.0825,  1.4712,  0.2694, -0.0908,  0.0732, -0.5527,  0.1672,  1.5088,\n",
      "          0.2047, -0.2326, -0.8594, -1.1887, -0.9312, -1.4343,  0.1974, -0.3983],\n",
      "        [ 0.9706, -0.2619, -0.3020,  0.6451,  0.7579, -0.2966,  0.2301, -0.6397,\n",
      "         -0.3183, -1.0333, -0.6920,  0.5406, -1.3694, -1.4823, -0.1375, -0.5662]])\n",
      "\n",
      "tensor([0])\n",
      "[Data(x=[2, 16], edge_index=[2, 2], name='fff')]\n",
      "子图 0 的节点特征：\n",
      "tensor([[-0.5876,  1.3696, -0.3849,  1.1402, -0.2602,  0.0237, -1.2035, -1.5993,\n",
      "         -1.6291, -1.2102,  0.2720, -1.0783, -0.5522, -1.0657, -1.1751, -1.2535],\n",
      "        [ 0.0962, -1.0269, -0.8143, -0.8424, -0.7184,  0.9040,  1.0897, -0.6769,\n",
      "          0.6518,  0.0924,  0.5368,  2.4583, -0.1037, -1.1358,  1.1797,  0.7729]])\n",
      "\n"
     ]
    }
   ],
   "source": [
    "import torch\n",
    "from torch_geometric.data import Data, DataLoader\n",
    "\n",
    "# 创建一些示例图数据\n",
    "graph1 = Data(x=torch.randn(4, 16), edge_index=torch.tensor([[0, 1, 1, 2], [1, 0, 2, 1]]), name='ddd')\n",
    "graph2 = Data(x=torch.randn(3, 16), edge_index=torch.tensor([[0, 1], [1, 2]]), name='eee')\n",
    "graph3 = Data(x=torch.randn(2, 16), edge_index=torch.tensor([[0, 1], [1, 0]]), name='fff')\n",
    "\n",
    "# 创建 DataLoader\n",
    "dataloader = DataLoader([graph1, graph2, graph3], batch_size=2)\n",
    "\n",
    "# 迭代批次\n",
    "for batch_data in dataloader:\n",
    "    # print(batch_data.keys())\n",
    "    # print(batch_data.batch)\n",
    "    # 获取批次中每个图的索引\n",
    "    unique_batch_indices = torch.unique(batch_data.batch)\n",
    "    print(unique_batch_indices)\n",
    "    # 迭代并处理每个图\n",
    "    for batch_index in unique_batch_indices:\n",
    "        subgraph = batch_data.index_select(batch_index)\n",
    "        print(subgraph)\n",
    "        print(f\"子图 {batch_index} 的节点特征：\\n{subgraph[0].x}\\n\")"
   ]
  }
 ],
 "metadata": {
  "kernelspec": {
   "display_name": "llmsage",
   "language": "python",
   "name": "python3"
  },
  "language_info": {
   "codemirror_mode": {
    "name": "ipython",
    "version": 3
   },
   "file_extension": ".py",
   "mimetype": "text/x-python",
   "name": "python",
   "nbconvert_exporter": "python",
   "pygments_lexer": "ipython3",
   "version": "3.10.14"
  }
 },
 "nbformat": 4,
 "nbformat_minor": 2
}
