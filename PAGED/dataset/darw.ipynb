{
 "cells": [
  {
   "cell_type": "code",
   "execution_count": null,
   "metadata": {},
   "outputs": [],
   "source": [
    "from graphviz import Digraph\n",
    "\n",
    "# 实例化一个Digraph对象(有向图)，name:生成的图片的图片名，format:生成的图片格式\n",
    "dot = Digraph(name=\"MyPicture\", format=\"png\")\n",
    "\n",
    "# 生成图片节点，name：这个节点对象的名称，label:节点名,color：画节点的线的颜色\n",
    "dot.node(name='a', label='Ming', color='green')\n",
    "dot.node(name='b', label='Hong', color='yellow')\n",
    "dot.node(name='c', label='Dong')\n",
    "\n",
    "# 在节点之间画线，label：线上显示的文本,color:线的颜色\n",
    "dot.edge('a', 'b', label=\"ab\\na-b\", color='red')\n",
    "# 一次性画多条线，c到b的线，a到c的线\n",
    "dot.edges(['cb', 'ac'])\n",
    "\n",
    "# 打印生成的源代码\n",
    "print(dot.source)\n",
    "\n",
    "\n",
    "# 跟view一样的用法(render跟view选择一个即可)，一般用render生成图片，不使用view=True,view=True用在调试的时候\n",
    "dot.render(filename='MyPicture', directory=\"/home/btr/bpmn/PAGED/dataset/image/train\")"
   ]
  },
  {
   "cell_type": "code",
   "execution_count": 38,
   "metadata": {},
   "outputs": [
    {
     "ename": "AttributeError",
     "evalue": "type object 'Graph' has no attribute 'load_from_json'",
     "output_type": "error",
     "traceback": [
      "\u001b[0;31m---------------------------------------------------------------------------\u001b[0m",
      "\u001b[0;31mAttributeError\u001b[0m                            Traceback (most recent call last)",
      "Cell \u001b[0;32mIn[38], line 4\u001b[0m\n\u001b[1;32m      1\u001b[0m \u001b[38;5;28;01mfrom\u001b[39;00m \u001b[38;5;21;01mgraphviz\u001b[39;00m \u001b[38;5;28;01mimport\u001b[39;00m Digraph\n\u001b[1;32m      2\u001b[0m \u001b[38;5;28;01mfrom\u001b[39;00m \u001b[38;5;21;01mgraph_utils\u001b[39;00m \u001b[38;5;28;01mimport\u001b[39;00m Graph\n\u001b[0;32m----> 4\u001b[0m train_dataset \u001b[38;5;241m=\u001b[39m \u001b[43mGraph\u001b[49m\u001b[38;5;241;43m.\u001b[39;49m\u001b[43mload_from_json\u001b[49m(\u001b[38;5;124m'\u001b[39m\u001b[38;5;124m/home/btr/bpmn/PAGED/dataset/procedural_graph_extraction/train.json\u001b[39m\u001b[38;5;124m'\u001b[39m)\n\u001b[1;32m      5\u001b[0m \u001b[38;5;28;01mfor\u001b[39;00m data \u001b[38;5;129;01min\u001b[39;00m train_dataset:\n\u001b[1;32m      6\u001b[0m     \u001b[38;5;28mprint\u001b[39m(data\u001b[38;5;241m.\u001b[39mfile_index)\n",
      "\u001b[0;31mAttributeError\u001b[0m: type object 'Graph' has no attribute 'load_from_json'"
     ]
    }
   ],
   "source": [
    "from graphviz import Digraph\n",
    "from graph_utils import Graph\n",
    "\n",
    "train_dataset = Graph.load_from_json('/home/btr/bpmn/PAGED/dataset/procedural_graph_extraction/train.json')\n",
    "for data in train_dataset:\n",
    "    print(data.file_index)\n",
    "    "
   ]
  }
 ],
 "metadata": {
  "kernelspec": {
   "display_name": "LLMEnG",
   "language": "python",
   "name": "python3"
  },
  "language_info": {
   "codemirror_mode": {
    "name": "ipython",
    "version": 3
   },
   "file_extension": ".py",
   "mimetype": "text/x-python",
   "name": "python",
   "nbconvert_exporter": "python",
   "pygments_lexer": "ipython3",
   "version": "3.10.14"
  }
 },
 "nbformat": 4,
 "nbformat_minor": 2
}
