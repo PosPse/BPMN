{
 "cells": [
  {
   "cell_type": "code",
   "execution_count": 3,
   "metadata": {},
   "outputs": [
    {
     "name": "stdout",
     "output_type": "stream",
     "text": [
      "{'filename': '1_data.txt', 'token': ['The', 'credit', 'company', 'receives', 'the', 'credit', 'information', 'from', 'the', 'customer', ',', 'If', 'the', 'requested', 'amount', 'is', 'greater', 'than', '1M', '$', 'an', 'approval', 'must', 'be', 'requested', '.', 'If', 'the', 'requested', 'amount', 'is', 'lower', 'or', 'equal', 'to', '1M', '$', 'the', 'company', 'assess', 'the', 'risk', 'of', 'the', 'credit', '.', 'After', 'the', 'assessment', ',', 'if', 'the', 'risk', 'is', 'high', ',', 'an', 'approval', 'must', 'be', 'requested', ';', 'but', 'if', 'the', 'risk', 'is', 'low', 'the', 'credit', 'is', 'accepted', '.', 'After', 'the', 'approval', 'request', ',', 'the', 'credit', 'could', 'be', 'accepted', 'or', 'rejected', ';', 'in', 'both', 'cases', ',', 'an', 'email', 'is', 'sent', 'to', 'the', 'customer', '.'], 'bio_label': ['B-activity', 'I-activity', 'I-activity', 'I-activity', 'I-activity', 'I-activity', 'I-activity', 'I-activity', 'I-activity', 'I-activity', 'punctuation', 'B-signal', 'B-condition', 'I-condition', 'I-condition', 'I-condition', 'I-condition', 'I-condition', 'I-condition', 'I-condition', 'B-activity', 'I-activity', 'I-activity', 'I-activity', 'I-activity', 'punctuation', 'B-signal', 'B-condition', 'I-condition', 'I-condition', 'I-condition', 'I-condition', 'I-condition', 'I-condition', 'I-condition', 'I-condition', 'I-condition', 'B-activity', 'I-activity', 'I-activity', 'I-activity', 'I-activity', 'I-activity', 'I-activity', 'I-activity', 'punctuation', 'B-signal', 'B-condition', 'I-condition', 'punctuation', 'B-signal', 'B-condition', 'I-condition', 'I-condition', 'I-condition', 'punctuation', 'B-activity', 'I-activity', 'I-activity', 'I-activity', 'I-activity', 'punctuation', 'B-signal', 'B-signal', 'B-condition', 'I-condition', 'I-condition', 'I-condition', 'B-activity', 'I-activity', 'I-activity', 'I-activity', 'punctuation', 'B-signal', 'B-condition', 'I-condition', 'I-condition', 'punctuation', 'B-activity', 'I-activity', 'I-activity', 'I-activity', 'I-activity', 'I-activity', 'I-activity', 'punctuation', 'B-signal', 'I-signal', 'I-signal', 'punctuation', 'B-activity', 'I-activity', 'I-activity', 'I-activity', 'I-activity', 'I-activity', 'I-activity', 'punctuation'], 'text': 'The credit company receives the credit information from the customer , If the requested amount is greater than 1M $ an approval must be requested . If the requested amount is lower or equal to 1M $ the company assess the risk of the credit . After the assessment , if the risk is high , an approval must be requested ; but if the risk is low the credit is accepted . After the approval request , the credit could be accepted or rejected ; in both cases , an email is sent to the customer .', 'relation': '110000300001100311010'}\n"
     ]
    }
   ],
   "source": [
    "import json\n",
    "with open ('datasets.json', 'r') as f:\n",
    "    datasets = json.load(f)\n",
    "    for data in datasets:\n",
    "        if data['filename'] == '2_data.txt':\n",
    "            print()"
   ]
  }
 ],
 "metadata": {
  "kernelspec": {
   "display_name": "btr",
   "language": "python",
   "name": "python3"
  },
  "language_info": {
   "codemirror_mode": {
    "name": "ipython",
    "version": 3
   },
   "file_extension": ".py",
   "mimetype": "text/x-python",
   "name": "python",
   "nbconvert_exporter": "python",
   "pygments_lexer": "ipython3",
   "version": "3.10.14"
  }
 },
 "nbformat": 4,
 "nbformat_minor": 2
}
